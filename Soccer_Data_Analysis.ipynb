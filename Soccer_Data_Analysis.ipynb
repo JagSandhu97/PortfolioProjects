{
 "cells": [
  {
   "cell_type": "markdown",
   "id": "52ba73b1",
   "metadata": {},
   "source": [
    "# 2018-19 English Premier League: An Exploratory Data Analysis\n",
    "\n",
    "- This dataset contains data of every game from the 2018-2019 season in the English Premier League. \n",
    "- In this project, I aim to explore the data and communicate some interesting findings. \n",
    "- The last section of this project shows the correlation between various columns of the data. "
   ]
  },
  {
   "cell_type": "markdown",
   "id": "cd108e68-ff2e-42ce-bc2f-e8e3b199cc19",
   "metadata": {},
   "source": [
    "[Source](https://data.world/chas/2018-2019-premier-league-matches) of dataset."
   ]
  },
  {
   "cell_type": "markdown",
   "id": "8aa9a3e2-5304-4e36-a955-2570b7e347df",
   "metadata": {},
   "source": [
    "## Data Dictionary\n",
    "| Column    | Explanation                                   |\n",
    "| --------- | --------------------------------------------- |\n",
    "| Div       | Division the game was played in               |                            \n",
    "| Date      | The date the game was played                  |\n",
    "| HomeTeam  | The home team                                 |\n",
    "| AwayTeam  | The away team                                 |\n",
    "| FTHG      | Full time home goals                          |\n",
    "| FTAG      | Full time away goals                          |\n",
    "| FTR       | Full time result                              |\n",
    "| HTHG      | Half time home goals                          |\n",
    "| HTAG      | Half time away goals                          |\n",
    "| HTR       | Half time result                              |\n",
    "| Referee   | The referee of the game                       |\n",
    "| HS        | Number of shots taken by home team            |\n",
    "| AS        | Number of shots taken by away team            |\n",
    "| HST       | Number of shots taken by home team on target  |\n",
    "| AST       | Number of shots taken by away team on target  |\n",
    "| HF        | Number of fouls made by home team             |\n",
    "| AF        | Number of fouls made by away team             |\n",
    "| HC        | Number of corners taken by home team          |\n",
    "| AC        | Number of corners taken by away team          |\n",
    "| HY        | Number of yellow cards received by home team  |\n",
    "| AY        | Number of yellow cards received by away team  |\n",
    "| HR        | Number of red cards received by home team     |\n",
    "| AR        | Number of red cards received by away team     |"
   ]
  },
  {
   "cell_type": "code",
   "execution_count": null,
   "id": "former-binary",
   "metadata": {
    "scrolled": true
   },
   "outputs": [
    {
     "name": "stdout",
     "output_type": "stream",
     "text": [
      "Number of rows and columns: (380, 23)\n"
     ]
    },
    {
     "data": {
      "application/com.datacamp.data-table.v1+json": {
       "is_truncated": false,
       "table": {
        "data": [
         {
          "AC": 5,
          "AF": 8,
          "AR": 0,
          "AS": 13,
          "AST": 4,
          "AY": 1,
          "AwayTeam": "Leicester",
          "Date": "10/8/18",
          "Div": "E0",
          "FTAG": 1,
          "FTHG": 2,
          "FTR": "H",
          "HC": 2,
          "HF": 11,
          "HR": 0,
          "HS": 8,
          "HST": 6,
          "HTAG": 0,
          "HTHG": 1,
          "HTR": "H",
          "HY": 2,
          "HomeTeam": "Man United",
          "Referee": "A Marriner",
          "index": 0
         },
         {
          "AC": 4,
          "AF": 9,
          "AR": 0,
          "AS": 10,
          "AST": 1,
          "AY": 1,
          "AwayTeam": "Cardiff",
          "Date": "11/8/18",
          "Div": "E0",
          "FTAG": 0,
          "FTHG": 2,
          "FTR": "H",
          "HC": 7,
          "HF": 11,
          "HR": 0,
          "HS": 12,
          "HST": 4,
          "HTAG": 0,
          "HTHG": 1,
          "HTR": "H",
          "HY": 1,
          "HomeTeam": "Bournemouth",
          "Referee": "K Friend",
          "index": 1
         },
         {
          "AC": 5,
          "AF": 11,
          "AR": 0,
          "AS": 10,
          "AST": 9,
          "AY": 2,
          "AwayTeam": "Crystal Palace",
          "Date": "11/8/18",
          "Div": "E0",
          "FTAG": 2,
          "FTHG": 0,
          "FTR": "A",
          "HC": 5,
          "HF": 9,
          "HR": 0,
          "HS": 15,
          "HST": 6,
          "HTAG": 1,
          "HTHG": 0,
          "HTR": "A",
          "HY": 1,
          "HomeTeam": "Fulham",
          "Referee": "M Dean",
          "index": 2
         },
         {
          "AC": 5,
          "AF": 8,
          "AR": 0,
          "AS": 13,
          "AST": 4,
          "AY": 1,
          "AwayTeam": "Chelsea",
          "Date": "11/8/18",
          "Div": "E0",
          "FTAG": 3,
          "FTHG": 0,
          "FTR": "A",
          "HC": 2,
          "HF": 9,
          "HR": 0,
          "HS": 6,
          "HST": 1,
          "HTAG": 2,
          "HTHG": 0,
          "HTR": "A",
          "HY": 2,
          "HomeTeam": "Huddersfield",
          "Referee": "C Kavanagh",
          "index": 3
         },
         {
          "AC": 5,
          "AF": 12,
          "AR": 0,
          "AS": 15,
          "AST": 5,
          "AY": 2,
          "AwayTeam": "Tottenham",
          "Date": "11/8/18",
          "Div": "E0",
          "FTAG": 2,
          "FTHG": 1,
          "FTR": "A",
          "HC": 3,
          "HF": 11,
          "HR": 0,
          "HS": 15,
          "HST": 2,
          "HTAG": 2,
          "HTHG": 1,
          "HTR": "A",
          "HY": 2,
          "HomeTeam": "Newcastle",
          "Referee": "M Atkinson",
          "index": 4
         }
        ],
        "schema": {
         "fields": [
          {
           "name": "index",
           "type": "integer"
          },
          {
           "name": "Div",
           "type": "string"
          },
          {
           "name": "Date",
           "type": "string"
          },
          {
           "name": "HomeTeam",
           "type": "string"
          },
          {
           "name": "AwayTeam",
           "type": "string"
          },
          {
           "name": "FTHG",
           "type": "integer"
          },
          {
           "name": "FTAG",
           "type": "integer"
          },
          {
           "name": "FTR",
           "type": "string"
          },
          {
           "name": "HTHG",
           "type": "integer"
          },
          {
           "name": "HTAG",
           "type": "integer"
          },
          {
           "name": "HTR",
           "type": "string"
          },
          {
           "name": "Referee",
           "type": "string"
          },
          {
           "name": "HS",
           "type": "integer"
          },
          {
           "name": "AS",
           "type": "integer"
          },
          {
           "name": "HST",
           "type": "integer"
          },
          {
           "name": "AST",
           "type": "integer"
          },
          {
           "name": "HF",
           "type": "integer"
          },
          {
           "name": "AF",
           "type": "integer"
          },
          {
           "name": "HC",
           "type": "integer"
          },
          {
           "name": "AC",
           "type": "integer"
          },
          {
           "name": "HY",
           "type": "integer"
          },
          {
           "name": "AY",
           "type": "integer"
          },
          {
           "name": "HR",
           "type": "integer"
          },
          {
           "name": "AR",
           "type": "integer"
          }
         ],
         "pandas_version": "0.20.0",
         "primaryKey": [
          "index"
         ]
        }
       },
       "total_rows": 5
      },
      "text/html": [
       "<div>\n",
       "<style scoped>\n",
       "    .dataframe tbody tr th:only-of-type {\n",
       "        vertical-align: middle;\n",
       "    }\n",
       "\n",
       "    .dataframe tbody tr th {\n",
       "        vertical-align: top;\n",
       "    }\n",
       "\n",
       "    .dataframe thead th {\n",
       "        text-align: right;\n",
       "    }\n",
       "</style>\n",
       "<table border=\"1\" class=\"dataframe\">\n",
       "  <thead>\n",
       "    <tr style=\"text-align: right;\">\n",
       "      <th></th>\n",
       "      <th>Div</th>\n",
       "      <th>Date</th>\n",
       "      <th>HomeTeam</th>\n",
       "      <th>AwayTeam</th>\n",
       "      <th>FTHG</th>\n",
       "      <th>FTAG</th>\n",
       "      <th>FTR</th>\n",
       "      <th>HTHG</th>\n",
       "      <th>HTAG</th>\n",
       "      <th>HTR</th>\n",
       "      <th>...</th>\n",
       "      <th>HST</th>\n",
       "      <th>AST</th>\n",
       "      <th>HF</th>\n",
       "      <th>AF</th>\n",
       "      <th>HC</th>\n",
       "      <th>AC</th>\n",
       "      <th>HY</th>\n",
       "      <th>AY</th>\n",
       "      <th>HR</th>\n",
       "      <th>AR</th>\n",
       "    </tr>\n",
       "  </thead>\n",
       "  <tbody>\n",
       "    <tr>\n",
       "      <th>0</th>\n",
       "      <td>E0</td>\n",
       "      <td>10/8/18</td>\n",
       "      <td>Man United</td>\n",
       "      <td>Leicester</td>\n",
       "      <td>2</td>\n",
       "      <td>1</td>\n",
       "      <td>H</td>\n",
       "      <td>1</td>\n",
       "      <td>0</td>\n",
       "      <td>H</td>\n",
       "      <td>...</td>\n",
       "      <td>6</td>\n",
       "      <td>4</td>\n",
       "      <td>11</td>\n",
       "      <td>8</td>\n",
       "      <td>2</td>\n",
       "      <td>5</td>\n",
       "      <td>2</td>\n",
       "      <td>1</td>\n",
       "      <td>0</td>\n",
       "      <td>0</td>\n",
       "    </tr>\n",
       "    <tr>\n",
       "      <th>1</th>\n",
       "      <td>E0</td>\n",
       "      <td>11/8/18</td>\n",
       "      <td>Bournemouth</td>\n",
       "      <td>Cardiff</td>\n",
       "      <td>2</td>\n",
       "      <td>0</td>\n",
       "      <td>H</td>\n",
       "      <td>1</td>\n",
       "      <td>0</td>\n",
       "      <td>H</td>\n",
       "      <td>...</td>\n",
       "      <td>4</td>\n",
       "      <td>1</td>\n",
       "      <td>11</td>\n",
       "      <td>9</td>\n",
       "      <td>7</td>\n",
       "      <td>4</td>\n",
       "      <td>1</td>\n",
       "      <td>1</td>\n",
       "      <td>0</td>\n",
       "      <td>0</td>\n",
       "    </tr>\n",
       "    <tr>\n",
       "      <th>2</th>\n",
       "      <td>E0</td>\n",
       "      <td>11/8/18</td>\n",
       "      <td>Fulham</td>\n",
       "      <td>Crystal Palace</td>\n",
       "      <td>0</td>\n",
       "      <td>2</td>\n",
       "      <td>A</td>\n",
       "      <td>0</td>\n",
       "      <td>1</td>\n",
       "      <td>A</td>\n",
       "      <td>...</td>\n",
       "      <td>6</td>\n",
       "      <td>9</td>\n",
       "      <td>9</td>\n",
       "      <td>11</td>\n",
       "      <td>5</td>\n",
       "      <td>5</td>\n",
       "      <td>1</td>\n",
       "      <td>2</td>\n",
       "      <td>0</td>\n",
       "      <td>0</td>\n",
       "    </tr>\n",
       "    <tr>\n",
       "      <th>3</th>\n",
       "      <td>E0</td>\n",
       "      <td>11/8/18</td>\n",
       "      <td>Huddersfield</td>\n",
       "      <td>Chelsea</td>\n",
       "      <td>0</td>\n",
       "      <td>3</td>\n",
       "      <td>A</td>\n",
       "      <td>0</td>\n",
       "      <td>2</td>\n",
       "      <td>A</td>\n",
       "      <td>...</td>\n",
       "      <td>1</td>\n",
       "      <td>4</td>\n",
       "      <td>9</td>\n",
       "      <td>8</td>\n",
       "      <td>2</td>\n",
       "      <td>5</td>\n",
       "      <td>2</td>\n",
       "      <td>1</td>\n",
       "      <td>0</td>\n",
       "      <td>0</td>\n",
       "    </tr>\n",
       "    <tr>\n",
       "      <th>4</th>\n",
       "      <td>E0</td>\n",
       "      <td>11/8/18</td>\n",
       "      <td>Newcastle</td>\n",
       "      <td>Tottenham</td>\n",
       "      <td>1</td>\n",
       "      <td>2</td>\n",
       "      <td>A</td>\n",
       "      <td>1</td>\n",
       "      <td>2</td>\n",
       "      <td>A</td>\n",
       "      <td>...</td>\n",
       "      <td>2</td>\n",
       "      <td>5</td>\n",
       "      <td>11</td>\n",
       "      <td>12</td>\n",
       "      <td>3</td>\n",
       "      <td>5</td>\n",
       "      <td>2</td>\n",
       "      <td>2</td>\n",
       "      <td>0</td>\n",
       "      <td>0</td>\n",
       "    </tr>\n",
       "  </tbody>\n",
       "</table>\n",
       "<p>5 rows × 23 columns</p>\n",
       "</div>"
      ],
      "text/plain": [
       "  Div     Date      HomeTeam        AwayTeam  FTHG  FTAG FTR  HTHG  HTAG HTR  \\\n",
       "0  E0  10/8/18    Man United       Leicester     2     1   H     1     0   H   \n",
       "1  E0  11/8/18   Bournemouth         Cardiff     2     0   H     1     0   H   \n",
       "2  E0  11/8/18        Fulham  Crystal Palace     0     2   A     0     1   A   \n",
       "3  E0  11/8/18  Huddersfield         Chelsea     0     3   A     0     2   A   \n",
       "4  E0  11/8/18     Newcastle       Tottenham     1     2   A     1     2   A   \n",
       "\n",
       "   ... HST  AST  HF  AF  HC  AC  HY  AY  HR  AR  \n",
       "0  ...   6    4  11   8   2   5   2   1   0   0  \n",
       "1  ...   4    1  11   9   7   4   1   1   0   0  \n",
       "2  ...   6    9   9  11   5   5   1   2   0   0  \n",
       "3  ...   1    4   9   8   2   5   2   1   0   0  \n",
       "4  ...   2    5  11  12   3   5   2   2   0   0  \n",
       "\n",
       "[5 rows x 23 columns]"
      ]
     },
     "execution_count": 57,
     "metadata": {},
     "output_type": "execute_result"
    }
   ],
   "source": [
    "#Importing necessary libraries\n",
    "import pandas as pd\n",
    "import seaborn as sns\n",
    "import matplotlib.pyplot as plt\n",
    "\n",
    "# Loading the dataset into a dataframe\n",
    "df = pd.read_csv(\"soccer18-19.csv\")\n",
    "\n",
    "#Printing the number of rows and columns\n",
    "print('Number of rows and columns:', df.shape)\n",
    "\n",
    "#Printing out the first five rows\n",
    "df.head()\n"
   ]
  },
  {
   "cell_type": "markdown",
   "id": "d6254d3d-d346-4c02-a801-ae762de743de",
   "metadata": {},
   "source": [
    "## Understanding Columns & Values \n",
    "- The info() function ia useful tool to summarize the data. \n",
    "- Here, I'm going to analyze each column's name, datatype and number of non-null rows they carry. \n",
    "- This is important to see if there are any missing values and to get familiar with the overall dataset. "
   ]
  },
  {
   "cell_type": "code",
   "execution_count": null,
   "id": "bfde12c5-955f-4f34-adb7-a51d158140ea",
   "metadata": {},
   "outputs": [
    {
     "name": "stdout",
     "output_type": "stream",
     "text": [
      "<class 'pandas.core.frame.DataFrame'>\n",
      "RangeIndex: 380 entries, 0 to 379\n",
      "Data columns (total 23 columns):\n",
      " #   Column    Non-Null Count  Dtype \n",
      "---  ------    --------------  ----- \n",
      " 0   Div       380 non-null    object\n",
      " 1   Date      380 non-null    object\n",
      " 2   HomeTeam  380 non-null    object\n",
      " 3   AwayTeam  380 non-null    object\n",
      " 4   FTHG      380 non-null    int64 \n",
      " 5   FTAG      380 non-null    int64 \n",
      " 6   FTR       380 non-null    object\n",
      " 7   HTHG      380 non-null    int64 \n",
      " 8   HTAG      380 non-null    int64 \n",
      " 9   HTR       380 non-null    object\n",
      " 10  Referee   380 non-null    object\n",
      " 11  HS        380 non-null    int64 \n",
      " 12  AS        380 non-null    int64 \n",
      " 13  HST       380 non-null    int64 \n",
      " 14  AST       380 non-null    int64 \n",
      " 15  HF        380 non-null    int64 \n",
      " 16  AF        380 non-null    int64 \n",
      " 17  HC        380 non-null    int64 \n",
      " 18  AC        380 non-null    int64 \n",
      " 19  HY        380 non-null    int64 \n",
      " 20  AY        380 non-null    int64 \n",
      " 21  HR        380 non-null    int64 \n",
      " 22  AR        380 non-null    int64 \n",
      "dtypes: int64(16), object(7)\n",
      "memory usage: 68.4+ KB\n"
     ]
    }
   ],
   "source": [
    "df.info()"
   ]
  },
  {
   "cell_type": "markdown",
   "id": "576a98a8-f071-49a2-b5ec-711b9264d13c",
   "metadata": {},
   "source": [
    "\n",
    "- Now, let's use the isna() function and aggregating it using sum() to get the total count of missing values. "
   ]
  },
  {
   "cell_type": "code",
   "execution_count": null,
   "id": "f5cfc16b-b2bc-4efb-bd4c-399b0f541693",
   "metadata": {},
   "outputs": [
    {
     "data": {
      "text/plain": [
       "Div         0\n",
       "Date        0\n",
       "HomeTeam    0\n",
       "AwayTeam    0\n",
       "FTHG        0\n",
       "FTAG        0\n",
       "FTR         0\n",
       "HTHG        0\n",
       "HTAG        0\n",
       "HTR         0\n",
       "Referee     0\n",
       "HS          0\n",
       "AS          0\n",
       "HST         0\n",
       "AST         0\n",
       "HF          0\n",
       "AF          0\n",
       "HC          0\n",
       "AC          0\n",
       "HY          0\n",
       "AY          0\n",
       "HR          0\n",
       "AR          0\n",
       "dtype: int64"
      ]
     },
     "execution_count": 59,
     "metadata": {},
     "output_type": "execute_result"
    }
   ],
   "source": [
    "df.isna().sum()"
   ]
  },
  {
   "cell_type": "markdown",
   "id": "5c70773e-f172-4954-996e-e857f177c784",
   "metadata": {},
   "source": [
    "- The data is complete as there are no null values. \n",
    "- This means that I don't have to alter the dataframe in any way. "
   ]
  },
  {
   "cell_type": "markdown",
   "id": "2a9e5218-7c1d-4e0c-b721-80c856bad831",
   "metadata": {},
   "source": [
    "## Useful Statistics\n",
    "- Here, we'll be using the describe() function. \n",
    "- This gives us helpful descriptive stats for our data\n",
    "- Null values are excluded here. In our case, however, there aren't any."
   ]
  },
  {
   "cell_type": "code",
   "execution_count": null,
   "id": "753a7a71-7f48-4b0a-9aac-6a1bb8a9d861",
   "metadata": {},
   "outputs": [
    {
     "data": {
      "application/com.datacamp.data-table.v1+json": {
       "is_truncated": false,
       "table": {
        "data": [
         {
          "AC": 380,
          "AF": 380,
          "AR": 380,
          "AS": 380,
          "AST": 380,
          "AY": 380,
          "FTAG": 380,
          "FTHG": 380,
          "HC": 380,
          "HF": 380,
          "HR": 380,
          "HS": 380,
          "HST": 380,
          "HTAG": 380,
          "HTHG": 380,
          "HY": 380,
          "index": "count"
         },
         {
          "AC": 4.5526315789,
          "AF": 10.3052631579,
          "AR": 0.0763157895,
          "AS": 11.1447368421,
          "AST": 3.9289473684,
          "AY": 1.6842105263,
          "FTAG": 1.2526315789,
          "FTHG": 1.5684210526,
          "HC": 5.7052631579,
          "HF": 10.1526315789,
          "HR": 0.0473684211,
          "HS": 14.1342105263,
          "HST": 4.7789473684,
          "HTAG": 0.5736842105,
          "HTHG": 0.6789473684,
          "HY": 1.5263157895,
          "index": "mean"
         },
         {
          "AC": 2.7306273108,
          "AF": 3.5037068473,
          "AR": 0.2755988543,
          "AS": 4.6540020154,
          "AST": 2.283982068,
          "AY": 1.2091398447,
          "FTAG": 1.1800310452,
          "FTHG": 1.3128360132,
          "HC": 2.9717178182,
          "HF": 3.2935322276,
          "HR": 0.2127057031,
          "HS": 5.8553710461,
          "HST": 2.6776863457,
          "HTAG": 0.7669575332,
          "HTHG": 0.8608021953,
          "HY": 1.2228441717,
          "index": "std"
         },
         {
          "AC": 0,
          "AF": 3,
          "AR": 0,
          "AS": 2,
          "AST": 0,
          "AY": 0,
          "FTAG": 0,
          "FTHG": 0,
          "HC": 0,
          "HF": 0,
          "HR": 0,
          "HS": 0,
          "HST": 0,
          "HTAG": 0,
          "HTHG": 0,
          "HY": 0,
          "index": "min"
         },
         {
          "AC": 2.75,
          "AF": 8,
          "AR": 0,
          "AS": 8,
          "AST": 2,
          "AY": 1,
          "FTAG": 0,
          "FTHG": 1,
          "HC": 4,
          "HF": 8,
          "HR": 0,
          "HS": 10,
          "HST": 3,
          "HTAG": 0,
          "HTHG": 0,
          "HY": 1,
          "index": "25%"
         },
         {
          "AC": 4,
          "AF": 10,
          "AR": 0,
          "AS": 11,
          "AST": 4,
          "AY": 2,
          "FTAG": 1,
          "FTHG": 1,
          "HC": 5,
          "HF": 10,
          "HR": 0,
          "HS": 14,
          "HST": 5,
          "HTAG": 0,
          "HTHG": 0,
          "HY": 1,
          "index": "50%"
         },
         {
          "AC": 6,
          "AF": 13,
          "AR": 0,
          "AS": 14,
          "AST": 5.25,
          "AY": 2,
          "FTAG": 2,
          "FTHG": 2,
          "HC": 8,
          "HF": 12,
          "HR": 0,
          "HS": 18,
          "HST": 6,
          "HTAG": 1,
          "HTHG": 1,
          "HY": 2,
          "index": "75%"
         },
         {
          "AC": 14,
          "AF": 21,
          "AR": 2,
          "AS": 25,
          "AST": 12,
          "AY": 5,
          "FTAG": 6,
          "FTHG": 6,
          "HC": 16,
          "HF": 23,
          "HR": 1,
          "HS": 36,
          "HST": 14,
          "HTAG": 3,
          "HTHG": 4,
          "HY": 6,
          "index": "max"
         }
        ],
        "schema": {
         "fields": [
          {
           "name": "index",
           "type": "string"
          },
          {
           "name": "FTHG",
           "type": "number"
          },
          {
           "name": "FTAG",
           "type": "number"
          },
          {
           "name": "HTHG",
           "type": "number"
          },
          {
           "name": "HTAG",
           "type": "number"
          },
          {
           "name": "HS",
           "type": "number"
          },
          {
           "name": "AS",
           "type": "number"
          },
          {
           "name": "HST",
           "type": "number"
          },
          {
           "name": "AST",
           "type": "number"
          },
          {
           "name": "HF",
           "type": "number"
          },
          {
           "name": "AF",
           "type": "number"
          },
          {
           "name": "HC",
           "type": "number"
          },
          {
           "name": "AC",
           "type": "number"
          },
          {
           "name": "HY",
           "type": "number"
          },
          {
           "name": "AY",
           "type": "number"
          },
          {
           "name": "HR",
           "type": "number"
          },
          {
           "name": "AR",
           "type": "number"
          }
         ],
         "pandas_version": "0.20.0",
         "primaryKey": [
          "index"
         ]
        }
       },
       "total_rows": 8
      },
      "text/html": [
       "<div>\n",
       "<style scoped>\n",
       "    .dataframe tbody tr th:only-of-type {\n",
       "        vertical-align: middle;\n",
       "    }\n",
       "\n",
       "    .dataframe tbody tr th {\n",
       "        vertical-align: top;\n",
       "    }\n",
       "\n",
       "    .dataframe thead th {\n",
       "        text-align: right;\n",
       "    }\n",
       "</style>\n",
       "<table border=\"1\" class=\"dataframe\">\n",
       "  <thead>\n",
       "    <tr style=\"text-align: right;\">\n",
       "      <th></th>\n",
       "      <th>FTHG</th>\n",
       "      <th>FTAG</th>\n",
       "      <th>HTHG</th>\n",
       "      <th>HTAG</th>\n",
       "      <th>HS</th>\n",
       "      <th>AS</th>\n",
       "      <th>HST</th>\n",
       "      <th>AST</th>\n",
       "      <th>HF</th>\n",
       "      <th>AF</th>\n",
       "      <th>HC</th>\n",
       "      <th>AC</th>\n",
       "      <th>HY</th>\n",
       "      <th>AY</th>\n",
       "      <th>HR</th>\n",
       "      <th>AR</th>\n",
       "    </tr>\n",
       "  </thead>\n",
       "  <tbody>\n",
       "    <tr>\n",
       "      <th>count</th>\n",
       "      <td>380.000000</td>\n",
       "      <td>380.000000</td>\n",
       "      <td>380.000000</td>\n",
       "      <td>380.000000</td>\n",
       "      <td>380.000000</td>\n",
       "      <td>380.000000</td>\n",
       "      <td>380.000000</td>\n",
       "      <td>380.000000</td>\n",
       "      <td>380.000000</td>\n",
       "      <td>380.000000</td>\n",
       "      <td>380.000000</td>\n",
       "      <td>380.000000</td>\n",
       "      <td>380.000000</td>\n",
       "      <td>380.000000</td>\n",
       "      <td>380.000000</td>\n",
       "      <td>380.000000</td>\n",
       "    </tr>\n",
       "    <tr>\n",
       "      <th>mean</th>\n",
       "      <td>1.568421</td>\n",
       "      <td>1.252632</td>\n",
       "      <td>0.678947</td>\n",
       "      <td>0.573684</td>\n",
       "      <td>14.134211</td>\n",
       "      <td>11.144737</td>\n",
       "      <td>4.778947</td>\n",
       "      <td>3.928947</td>\n",
       "      <td>10.152632</td>\n",
       "      <td>10.305263</td>\n",
       "      <td>5.705263</td>\n",
       "      <td>4.552632</td>\n",
       "      <td>1.526316</td>\n",
       "      <td>1.684211</td>\n",
       "      <td>0.047368</td>\n",
       "      <td>0.076316</td>\n",
       "    </tr>\n",
       "    <tr>\n",
       "      <th>std</th>\n",
       "      <td>1.312836</td>\n",
       "      <td>1.180031</td>\n",
       "      <td>0.860802</td>\n",
       "      <td>0.766958</td>\n",
       "      <td>5.855371</td>\n",
       "      <td>4.654002</td>\n",
       "      <td>2.677686</td>\n",
       "      <td>2.283982</td>\n",
       "      <td>3.293532</td>\n",
       "      <td>3.503707</td>\n",
       "      <td>2.971718</td>\n",
       "      <td>2.730627</td>\n",
       "      <td>1.222844</td>\n",
       "      <td>1.209140</td>\n",
       "      <td>0.212706</td>\n",
       "      <td>0.275599</td>\n",
       "    </tr>\n",
       "    <tr>\n",
       "      <th>min</th>\n",
       "      <td>0.000000</td>\n",
       "      <td>0.000000</td>\n",
       "      <td>0.000000</td>\n",
       "      <td>0.000000</td>\n",
       "      <td>0.000000</td>\n",
       "      <td>2.000000</td>\n",
       "      <td>0.000000</td>\n",
       "      <td>0.000000</td>\n",
       "      <td>0.000000</td>\n",
       "      <td>3.000000</td>\n",
       "      <td>0.000000</td>\n",
       "      <td>0.000000</td>\n",
       "      <td>0.000000</td>\n",
       "      <td>0.000000</td>\n",
       "      <td>0.000000</td>\n",
       "      <td>0.000000</td>\n",
       "    </tr>\n",
       "    <tr>\n",
       "      <th>25%</th>\n",
       "      <td>1.000000</td>\n",
       "      <td>0.000000</td>\n",
       "      <td>0.000000</td>\n",
       "      <td>0.000000</td>\n",
       "      <td>10.000000</td>\n",
       "      <td>8.000000</td>\n",
       "      <td>3.000000</td>\n",
       "      <td>2.000000</td>\n",
       "      <td>8.000000</td>\n",
       "      <td>8.000000</td>\n",
       "      <td>4.000000</td>\n",
       "      <td>2.750000</td>\n",
       "      <td>1.000000</td>\n",
       "      <td>1.000000</td>\n",
       "      <td>0.000000</td>\n",
       "      <td>0.000000</td>\n",
       "    </tr>\n",
       "    <tr>\n",
       "      <th>50%</th>\n",
       "      <td>1.000000</td>\n",
       "      <td>1.000000</td>\n",
       "      <td>0.000000</td>\n",
       "      <td>0.000000</td>\n",
       "      <td>14.000000</td>\n",
       "      <td>11.000000</td>\n",
       "      <td>5.000000</td>\n",
       "      <td>4.000000</td>\n",
       "      <td>10.000000</td>\n",
       "      <td>10.000000</td>\n",
       "      <td>5.000000</td>\n",
       "      <td>4.000000</td>\n",
       "      <td>1.000000</td>\n",
       "      <td>2.000000</td>\n",
       "      <td>0.000000</td>\n",
       "      <td>0.000000</td>\n",
       "    </tr>\n",
       "    <tr>\n",
       "      <th>75%</th>\n",
       "      <td>2.000000</td>\n",
       "      <td>2.000000</td>\n",
       "      <td>1.000000</td>\n",
       "      <td>1.000000</td>\n",
       "      <td>18.000000</td>\n",
       "      <td>14.000000</td>\n",
       "      <td>6.000000</td>\n",
       "      <td>5.250000</td>\n",
       "      <td>12.000000</td>\n",
       "      <td>13.000000</td>\n",
       "      <td>8.000000</td>\n",
       "      <td>6.000000</td>\n",
       "      <td>2.000000</td>\n",
       "      <td>2.000000</td>\n",
       "      <td>0.000000</td>\n",
       "      <td>0.000000</td>\n",
       "    </tr>\n",
       "    <tr>\n",
       "      <th>max</th>\n",
       "      <td>6.000000</td>\n",
       "      <td>6.000000</td>\n",
       "      <td>4.000000</td>\n",
       "      <td>3.000000</td>\n",
       "      <td>36.000000</td>\n",
       "      <td>25.000000</td>\n",
       "      <td>14.000000</td>\n",
       "      <td>12.000000</td>\n",
       "      <td>23.000000</td>\n",
       "      <td>21.000000</td>\n",
       "      <td>16.000000</td>\n",
       "      <td>14.000000</td>\n",
       "      <td>6.000000</td>\n",
       "      <td>5.000000</td>\n",
       "      <td>1.000000</td>\n",
       "      <td>2.000000</td>\n",
       "    </tr>\n",
       "  </tbody>\n",
       "</table>\n",
       "</div>"
      ],
      "text/plain": [
       "             FTHG        FTAG        HTHG        HTAG          HS          AS  \\\n",
       "count  380.000000  380.000000  380.000000  380.000000  380.000000  380.000000   \n",
       "mean     1.568421    1.252632    0.678947    0.573684   14.134211   11.144737   \n",
       "std      1.312836    1.180031    0.860802    0.766958    5.855371    4.654002   \n",
       "min      0.000000    0.000000    0.000000    0.000000    0.000000    2.000000   \n",
       "25%      1.000000    0.000000    0.000000    0.000000   10.000000    8.000000   \n",
       "50%      1.000000    1.000000    0.000000    0.000000   14.000000   11.000000   \n",
       "75%      2.000000    2.000000    1.000000    1.000000   18.000000   14.000000   \n",
       "max      6.000000    6.000000    4.000000    3.000000   36.000000   25.000000   \n",
       "\n",
       "              HST         AST          HF          AF          HC          AC  \\\n",
       "count  380.000000  380.000000  380.000000  380.000000  380.000000  380.000000   \n",
       "mean     4.778947    3.928947   10.152632   10.305263    5.705263    4.552632   \n",
       "std      2.677686    2.283982    3.293532    3.503707    2.971718    2.730627   \n",
       "min      0.000000    0.000000    0.000000    3.000000    0.000000    0.000000   \n",
       "25%      3.000000    2.000000    8.000000    8.000000    4.000000    2.750000   \n",
       "50%      5.000000    4.000000   10.000000   10.000000    5.000000    4.000000   \n",
       "75%      6.000000    5.250000   12.000000   13.000000    8.000000    6.000000   \n",
       "max     14.000000   12.000000   23.000000   21.000000   16.000000   14.000000   \n",
       "\n",
       "               HY          AY          HR          AR  \n",
       "count  380.000000  380.000000  380.000000  380.000000  \n",
       "mean     1.526316    1.684211    0.047368    0.076316  \n",
       "std      1.222844    1.209140    0.212706    0.275599  \n",
       "min      0.000000    0.000000    0.000000    0.000000  \n",
       "25%      1.000000    1.000000    0.000000    0.000000  \n",
       "50%      1.000000    2.000000    0.000000    0.000000  \n",
       "75%      2.000000    2.000000    0.000000    0.000000  \n",
       "max      6.000000    5.000000    1.000000    2.000000  "
      ]
     },
     "execution_count": 60,
     "metadata": {},
     "output_type": "execute_result"
    }
   ],
   "source": [
    "df.describe()"
   ]
  },
  {
   "cell_type": "markdown",
   "id": "65e62295-6a53-4c19-9b0d-d9c0e46d091f",
   "metadata": {},
   "source": [
    "- Using the unique() function to print distinct values of the 'Home Team' column. \n",
    "- This will show us all the teams that participated in the season. "
   ]
  },
  {
   "cell_type": "code",
   "execution_count": null,
   "id": "abb5d050-cf82-4a51-bcba-60925481a624",
   "metadata": {},
   "outputs": [
    {
     "data": {
      "text/plain": [
       "array(['Man United', 'Bournemouth', 'Fulham', 'Huddersfield', 'Newcastle',\n",
       "       'Watford', 'Wolves', 'Arsenal', 'Liverpool', 'Southampton',\n",
       "       'Cardiff', 'Chelsea', 'Everton', 'Leicester', 'Tottenham',\n",
       "       'West Ham', 'Brighton', 'Burnley', 'Man City', 'Crystal Palace'],\n",
       "      dtype=object)"
      ]
     },
     "execution_count": 61,
     "metadata": {},
     "output_type": "execute_result"
    }
   ],
   "source": [
    "df['HomeTeam'].unique()"
   ]
  },
  {
   "cell_type": "markdown",
   "id": "51d8ea36-a528-4cb1-beb5-4301692b9c21",
   "metadata": {},
   "source": [
    "- Using the value_counts() function to print out the number of rows for each unique team.\n",
    "- This shows how many matches each team played as Home Team. \n",
    "- Note: Every team playes 19 matches as Home Team and other 19 as Away."
   ]
  },
  {
   "cell_type": "code",
   "execution_count": null,
   "id": "c763af47-4cee-43e1-b310-508c8e2a78eb",
   "metadata": {},
   "outputs": [
    {
     "data": {
      "text/plain": [
       "Chelsea           19\n",
       "Bournemouth       19\n",
       "Burnley           19\n",
       "Liverpool         19\n",
       "Tottenham         19\n",
       "Everton           19\n",
       "West Ham          19\n",
       "Newcastle         19\n",
       "Cardiff           19\n",
       "Crystal Palace    19\n",
       "Huddersfield      19\n",
       "Wolves            19\n",
       "Fulham            19\n",
       "Leicester         19\n",
       "Man City          19\n",
       "Man United        19\n",
       "Southampton       19\n",
       "Arsenal           19\n",
       "Watford           19\n",
       "Brighton          19\n",
       "Name: HomeTeam, dtype: int64"
      ]
     },
     "execution_count": 62,
     "metadata": {},
     "output_type": "execute_result"
    }
   ],
   "source": [
    "df['HomeTeam'].value_counts(dropna=True)"
   ]
  },
  {
   "cell_type": "markdown",
   "id": "04830776-9414-4130-89bf-48955a882985",
   "metadata": {},
   "source": [
    "# Data Visualizations"
   ]
  },
  {
   "cell_type": "markdown",
   "id": "0715880b-e58b-4580-b788-fd97e12061cf",
   "metadata": {},
   "source": [
    "## Speculating Outliers"
   ]
  },
  {
   "cell_type": "code",
   "execution_count": null,
   "id": "f6f679af-6e2f-4984-831c-7acb8faf9952",
   "metadata": {},
   "outputs": [
    {
     "data": {
      "text/plain": [
       "<AxesSubplot:>"
      ]
     },
     "execution_count": 63,
     "metadata": {},
     "output_type": "execute_result"
    },
    {
     "data": {
      "image/png": "[encoded data removed]",
      "text/plain": [
       "<Figure size 864x576 with 1 Axes>"
      ]
     },
     "metadata": {
      "needs_background": "light"
     },
     "output_type": "display_data"
    }
   ],
   "source": [
    "# Plotting a boxplot to figure out some outliers. \n",
    "df.plot(\n",
    "\tkind='box', figsize=(12,8) \n",
    ")"
   ]
  },
  {
   "cell_type": "markdown",
   "id": "66ce1a2a-d39f-405a-81c1-6380fa5aacf7",
   "metadata": {},
   "source": [
    "- Largest distribution of data is of 'Hometeam shots'. \n",
    "- Every category has outliers. However, the largest amount of outliers for 'AC' (corners taken by the away team).\n",
    "- Also, there are significant outliers for 'HY'. This means that were matches with an oddly large amouont of yellow cards.  "
   ]
  },
  {
   "cell_type": "markdown",
   "id": "fec69683-d98a-4426-8c22-a946583668dd",
   "metadata": {},
   "source": [
    "## Checking the Distribution"
   ]
  },
  {
   "cell_type": "markdown",
   "id": "308bd167-9e3b-4baa-9251-8e7d13acbfab",
   "metadata": {},
   "source": [
    "Let's use a histogram to further analyze one column in the df.\n",
    "- Plotting the distribution of full-time home and away goals."
   ]
  },
  {
   "cell_type": "code",
   "execution_count": null,
   "id": "bfcb10c9-8e5b-4351-869f-e4145e0581b7",
   "metadata": {},
   "outputs": [
    {
     "data": {
      "text/plain": [
       "<AxesSubplot:ylabel='Frequency'>"
      ]
     },
     "execution_count": 64,
     "metadata": {},
     "output_type": "execute_result"
    },
    {
     "data": {
      "image/png": "[encoded data removed]",
      "text/plain": [
       "<Figure size 432x288 with 1 Axes>"
      ]
     },
     "metadata": {
      "needs_background": "light"
     },
     "output_type": "display_data"
    },
    {
     "data": {
      "image/png": "[encoded data removed]",
      "text/plain": [
       "<Figure size 432x288 with 1 Axes>"
      ]
     },
     "metadata": {
      "needs_background": "light"
     },
     "output_type": "display_data"
    }
   ],
   "source": [
    "#Home Goals\n",
    "df.plot(\n",
    "\tkind = \"hist\",\n",
    "    y = 'FTHG',\n",
    "    bins = 5,\n",
    "    # figsize = (12,8)\n",
    ")\n",
    "\n",
    "#Away Goals\n",
    "df.plot(\n",
    "\tkind = \"hist\",\n",
    "    y = 'FTAG',\n",
    "    bins = 5,\n",
    "    alpha = 0.3,\n",
    "    # figsize = (12,8)\n",
    ")"
   ]
  },
  {
   "cell_type": "markdown",
   "id": "c71d2737-e36c-4617-98e4-7a7b2438055e",
   "metadata": {},
   "source": [
    "- Distribution of home and away goals is similar. \n",
    "- However, the frequency of away goals seems to be higher in the 0 - 1 range. "
   ]
  },
  {
   "cell_type": "markdown",
   "id": "fc6f1497-b106-4d52-9ea6-b91677e2155e",
   "metadata": {},
   "source": [
    "## Comparing Averages"
   ]
  },
  {
   "cell_type": "markdown",
   "id": "0aaf7a54-9e4c-4396-aa5c-f76dbdd64c8c",
   "metadata": {},
   "source": [
    "- Now, we will use a bar plot to compare averages of a numeric column across a categorical columns. \n",
    "- So, in our case, let's calculate the avg home goals scored by teams when they were playing at their home stadium. "
   ]
  },
  {
   "cell_type": "code",
   "execution_count": null,
   "id": "be71ae04-6b7e-41d9-8220-bfa31cf36ba7",
   "metadata": {},
   "outputs": [
    {
     "data": {
      "text/plain": [
       "<AxesSubplot:title={'center':'Average Home Goals Scored by Home Teams'}, xlabel='Home Team', ylabel='Home goals scored'>"
      ]
     },
     "execution_count": 65,
     "metadata": {},
     "output_type": "execute_result"
    },
    {
     "data": {
      "image/png": "[encoded data removed]",
      "text/plain": [
       "<Figure size 1080x360 with 1 Axes>"
      ]
     },
     "metadata": {
      "needs_background": "light"
     },
     "output_type": "display_data"
    }
   ],
   "source": [
    "#Grouping by HomeTeam\n",
    "df_bar = df.groupby([\"HomeTeam\"])[\"FTHG\"].mean()\n",
    "\n",
    "#Bar Plot\n",
    "df_bar.plot(\n",
    "\tkind='bar',\n",
    "    ylabel='Home goals scored',\n",
    "    xlabel = 'Home Team',\n",
    "    title = 'Average Home Goals Scored by Home Teams',\n",
    "    figsize=(15,5)\n",
    ")"
   ]
  },
  {
   "cell_type": "markdown",
   "id": "10cd11bd-2c2b-46aa-a5ae-521db9956aea",
   "metadata": {},
   "source": [
    "- Liverpool & Manchester City have the highest average number of home goals scored as home teams. \n",
    "- What about the most amount away goals scored by away teams?"
   ]
  },
  {
   "cell_type": "code",
   "execution_count": null,
   "id": "466753ac-b912-4f48-b20c-bb109ad7e234",
   "metadata": {},
   "outputs": [
    {
     "data": {
      "text/plain": [
       "<AxesSubplot:title={'center':'Average Away Goals Scored by Away Teams'}, xlabel='Away Team', ylabel='Away goals scored'>"
      ]
     },
     "execution_count": 66,
     "metadata": {},
     "output_type": "execute_result"
    },
    {
     "data": {
      "image/png": "[encoded data removed]",
      "text/plain": [
       "<Figure size 1080x360 with 1 Axes>"
      ]
     },
     "metadata": {
      "needs_background": "light"
     },
     "output_type": "display_data"
    }
   ],
   "source": [
    "#Grouping by Away Team\n",
    "df_bar = df.groupby([\"AwayTeam\"])['FTAG'].mean()\n",
    "\n",
    "#Bar Plot\n",
    "df_bar.plot(\n",
    "\t\tkind='bar',\n",
    "    \tylabel='Away goals scored',\n",
    "    \txlabel = 'Away Team',\n",
    "        title = 'Average Away Goals Scored by Away Teams',\n",
    "\t   \tfigsize=(15,5)\n",
    ")"
   ]
  },
  {
   "cell_type": "markdown",
   "id": "1cd22979-c7e2-4b73-95c2-7a2dd78fb0b4",
   "metadata": {},
   "source": [
    "- Looks like Manchester City had the highest average number of away goals scored as away team as well.\n",
    "- Followed by Liverpool, Man united, Tottenham and Crystal Palace"
   ]
  },
  {
   "cell_type": "markdown",
   "id": "9882f5a6-8833-422e-9ce9-e88ae0e34758",
   "metadata": {},
   "source": [
    "- Let's use a linie plot to find patterns such as seasonality."
   ]
  },
  {
   "cell_type": "code",
   "execution_count": null,
   "id": "c61a1a22-7e72-4dcc-9447-7db7b3ea99ca",
   "metadata": {},
   "outputs": [
    {
     "data": {
      "text/plain": [
       "<AxesSubplot:title={'center':'Number of Matches vs. Days of Week'}, xlabel='Days of the Week', ylabel='Count of Matches'>"
      ]
     },
     "execution_count": 67,
     "metadata": {},
     "output_type": "execute_result"
    },
    {
     "data": {
      "image/png": "[encoded data removed]",
      "text/plain": [
       "<Figure size 1080x360 with 1 Axes>"
      ]
     },
     "metadata": {
      "needs_background": "light"
     },
     "output_type": "display_data"
    }
   ],
   "source": [
    "# Convert any date and/or time column to datetime format\n",
    "df['Date'] = pd.to_datetime(df['Date'])\n",
    "\n",
    "# Create a new DataFrame, group by the datetime column and choose an aggregation\n",
    "# On the datetime column, choose a time object, options can be found here:\n",
    "# https://pandas.pydata.org/pandas-docs/stable/user_guide/timeseries.html#time-date-components\n",
    "df_dates = df['Date'].groupby([df['Date'].dt.dayofweek]).count()\n",
    "\n",
    "df_dates.plot(\n",
    "    kind=\"line\",  # Specifies line plot\n",
    "    ylabel=\"Count of Matches\",  # Add a y-axis label\n",
    "    xlabel=\"Days of the Week\",  # Add a x-axis label \n",
    "    title =\"Number of Matches vs. Days of Week\",\n",
    "    figsize=(15, 5)  # Set width & height in inches\n",
    ")"
   ]
  },
  {
   "cell_type": "markdown",
   "id": "0a523571-20ba-4a21-a73d-461b7cd74b74",
   "metadata": {},
   "source": [
    "- As expected, most of the matches happened on the weekend. "
   ]
  },
  {
   "cell_type": "markdown",
   "id": "bb71e273-4d02-4406-9f26-7add954fe1e1",
   "metadata": {},
   "source": [
    "- Is there a relationshiip between number of Number of shots taken by home team on target and the number of goals scored?\n",
    "- Let's use a scatter plot to find out. "
   ]
  },
  {
   "cell_type": "markdown",
   "id": "afbd83db-71c0-4b7b-948b-4bcf57bb7b1b",
   "metadata": {},
   "source": [
    "## Exploring Relationships between Variables"
   ]
  },
  {
   "cell_type": "markdown",
   "id": "77f6a729-79c8-43af-9d5c-0d4b9cf2f3fb",
   "metadata": {},
   "source": [
    "- Let's see if there's a relationship betweem fouls made and yellow card bookings.\n",
    "- Let's use a scatter plot to analyze the relationship."
   ]
  },
  {
   "cell_type": "code",
   "execution_count": null,
   "id": "73375f58-6cef-4a01-949b-f5c32d1e95a5",
   "metadata": {},
   "outputs": [
    {
     "data": {
      "image/png": "[encoded data removed]",
      "text/plain": [
       "<Figure size 1080x360 with 1 Axes>"
      ]
     },
     "metadata": {
      "needs_background": "light"
     },
     "output_type": "display_data"
    }
   ],
   "source": [
    "df.plot(\n",
    "    kind=\"scatter\",  # Specifies a scatter plot\n",
    "    x=\"HF\",  # Fouls made by hometeam\n",
    "    y=\"HY\",  # Yellow card bookings for Home Team\n",
    "    xlabel=\"Fouls made by home team\",\n",
    "    ylabel =\"Number of yellow cards received by home team\",\n",
    "    title=\"Relationship b/w Fouls Made & Yellow Cards Issued\",\n",
    "    figsize=(15, 5)  # Set width & height in inches\n",
    ");"
   ]
  },
  {
   "cell_type": "markdown",
   "id": "62f2b680-f7cd-49be-8a04-3efa9a69e374",
   "metadata": {},
   "source": [
    "- As expected, there seems to be a positive relationship between the two variables. \n",
    "- More number of fouls does lead to more number of warnings or yellow cards. \n",
    "- However, in some circumstances, the referees do overlook various boookabale offence."
   ]
  },
  {
   "cell_type": "markdown",
   "id": "7910f10f-fb70-4187-842a-2ada4e238134",
   "metadata": {},
   "source": [
    "## Plotting out the Correlation"
   ]
  },
  {
   "cell_type": "markdown",
   "id": "6ce70487-51eb-4290-a96b-c6f5737f36f8",
   "metadata": {},
   "source": [
    "- To further explore relationships between columns, generate a correlation matrix using pandas' corr() function and a plot it with Seaborn's heatmap() function.\n",
    "- Here, we will analyze which factores contribute more to home and away team's goals."
   ]
  },
  {
   "cell_type": "code",
   "execution_count": null,
   "id": "311f05e9-edab-4dbc-90c2-808b6e0330f5",
   "metadata": {},
   "outputs": [
    {
     "data": {
      "application/com.datacamp.data-table.v1+json": {
       "is_truncated": false,
       "table": {
        "data": [
         {
          "AC": 5,
          "AS": 13,
          "FTAG": 1,
          "FTHG": 2,
          "HC": 2,
          "HS": 8,
          "index": 0
         },
         {
          "AC": 4,
          "AS": 10,
          "FTAG": 0,
          "FTHG": 2,
          "HC": 7,
          "HS": 12,
          "index": 1
         },
         {
          "AC": 5,
          "AS": 10,
          "FTAG": 2,
          "FTHG": 0,
          "HC": 5,
          "HS": 15,
          "index": 2
         },
         {
          "AC": 5,
          "AS": 13,
          "FTAG": 3,
          "FTHG": 0,
          "HC": 2,
          "HS": 6,
          "index": 3
         },
         {
          "AC": 5,
          "AS": 15,
          "FTAG": 2,
          "FTHG": 1,
          "HC": 3,
          "HS": 15,
          "index": 4
         }
        ],
        "schema": {
         "fields": [
          {
           "name": "index",
           "type": "integer"
          },
          {
           "name": "FTHG",
           "type": "integer"
          },
          {
           "name": "FTAG",
           "type": "integer"
          },
          {
           "name": "HS",
           "type": "integer"
          },
          {
           "name": "AS",
           "type": "integer"
          },
          {
           "name": "HC",
           "type": "integer"
          },
          {
           "name": "AC",
           "type": "integer"
          }
         ],
         "pandas_version": "0.20.0",
         "primaryKey": [
          "index"
         ]
        }
       },
       "total_rows": 5
      },
      "text/html": [
       "<div>\n",
       "<style scoped>\n",
       "    .dataframe tbody tr th:only-of-type {\n",
       "        vertical-align: middle;\n",
       "    }\n",
       "\n",
       "    .dataframe tbody tr th {\n",
       "        vertical-align: top;\n",
       "    }\n",
       "\n",
       "    .dataframe thead th {\n",
       "        text-align: right;\n",
       "    }\n",
       "</style>\n",
       "<table border=\"1\" class=\"dataframe\">\n",
       "  <thead>\n",
       "    <tr style=\"text-align: right;\">\n",
       "      <th></th>\n",
       "      <th>FTHG</th>\n",
       "      <th>FTAG</th>\n",
       "      <th>HS</th>\n",
       "      <th>AS</th>\n",
       "      <th>HC</th>\n",
       "      <th>AC</th>\n",
       "    </tr>\n",
       "  </thead>\n",
       "  <tbody>\n",
       "    <tr>\n",
       "      <th>0</th>\n",
       "      <td>2</td>\n",
       "      <td>1</td>\n",
       "      <td>8</td>\n",
       "      <td>13</td>\n",
       "      <td>2</td>\n",
       "      <td>5</td>\n",
       "    </tr>\n",
       "    <tr>\n",
       "      <th>1</th>\n",
       "      <td>2</td>\n",
       "      <td>0</td>\n",
       "      <td>12</td>\n",
       "      <td>10</td>\n",
       "      <td>7</td>\n",
       "      <td>4</td>\n",
       "    </tr>\n",
       "    <tr>\n",
       "      <th>2</th>\n",
       "      <td>0</td>\n",
       "      <td>2</td>\n",
       "      <td>15</td>\n",
       "      <td>10</td>\n",
       "      <td>5</td>\n",
       "      <td>5</td>\n",
       "    </tr>\n",
       "    <tr>\n",
       "      <th>3</th>\n",
       "      <td>0</td>\n",
       "      <td>3</td>\n",
       "      <td>6</td>\n",
       "      <td>13</td>\n",
       "      <td>2</td>\n",
       "      <td>5</td>\n",
       "    </tr>\n",
       "    <tr>\n",
       "      <th>4</th>\n",
       "      <td>1</td>\n",
       "      <td>2</td>\n",
       "      <td>15</td>\n",
       "      <td>15</td>\n",
       "      <td>3</td>\n",
       "      <td>5</td>\n",
       "    </tr>\n",
       "  </tbody>\n",
       "</table>\n",
       "</div>"
      ],
      "text/plain": [
       "   FTHG  FTAG  HS  AS  HC  AC\n",
       "0     2     1   8  13   2   5\n",
       "1     2     0  12  10   7   4\n",
       "2     0     2  15  10   5   5\n",
       "3     0     3   6  13   2   5\n",
       "4     1     2  15  15   3   5"
      ]
     },
     "execution_count": 69,
     "metadata": {},
     "output_type": "execute_result"
    }
   ],
   "source": [
    "#Filtering the main dataframe \n",
    "df_2 = df.filter(items = [\"FTHG\", \"FTAG\", \"HTS\", \"HS\", \"AS\", \"HC\", \"AC\"])\n",
    "\n",
    "#printing out the filtered dataframe's sample\n",
    "df_2.head()"
   ]
  },
  {
   "cell_type": "code",
   "execution_count": null,
   "id": "4aa8737d-b30c-4ea2-aaf7-2b4d9941c881",
   "metadata": {},
   "outputs": [
    {
     "data": {
      "image/png": "[encoded data removed]",
      "text/plain": [
       "<Figure size 1440x648 with 2 Axes>"
      ]
     },
     "metadata": {
      "needs_background": "light"
     },
     "output_type": "display_data"
    }
   ],
   "source": [
    "# Generate and print pairwise correlation of columns\n",
    "cm = df_2.corr()\n",
    "# print(cm)\n",
    "\n",
    "# Plot the correlation matrix nicely using Seaborn\n",
    "plt.figure(figsize = (20,9))\n",
    "sns.heatmap(cm, annot=True, )\n",
    "plt.show()"
   ]
  },
  {
   "cell_type": "markdown",
   "id": "a6f680c0-9972-4568-b0c8-86104c725af1",
   "metadata": {},
   "source": [
    "- As expected, positive correlations exist between the goals scored by home team and the number of shaots they took.\n",
    "- Moreover, there is a positive correlation between goals scored and number of corners taken. In other words, the team, who gets more corners increases its chances of scoring a goal. \n",
    "- The same is true for the away team as well. "
   ]
  }
 ],
 "metadata": {
  "colab": {
   "name": "Welcome to DataCamp Workspaces.ipynb",
   "provenance": []
  },
  "editor": "DataCamp Workspace",
  "kernelspec": {
   "display_name": "Python 3 (ipykernel)",
   "language": "python",
   "name": "python3"
  },
  "language_info": {
   "codemirror_mode": {
    "name": "ipython",
    "version": 3
   },
   "file_extension": ".py",
   "mimetype": "text/x-python",
   "name": "python",
   "nbconvert_exporter": "python",
   "pygments_lexer": "ipython3",
   "version": "3.8.10"
  },
  "varInspector": {
   "cols": {
    "lenName": 16,
    "lenType": 16,
    "lenVar": 40
   },
   "kernels_config": {
    "python": {
     "delete_cmd_postfix": "",
     "delete_cmd_prefix": "del ",
     "library": "var_list.py",
     "varRefreshCmd": "print(var_dic_list())"
    },
    "r": {
     "delete_cmd_postfix": ") ",
     "delete_cmd_prefix": "rm(",
     "library": "var_list.r",
     "varRefreshCmd": "cat(var_dic_list()) "
    }
   },
   "types_to_exclude": [
    "module",
    "function",
    "builtin_function_or_method",
    "instance",
    "_Feature"
   ],
   "window_display": false
  }
 },
 "nbformat": 4,
 "nbformat_minor": 5
}
